{
 "cells": [
  {
   "cell_type": "code",
   "execution_count": 1,
   "metadata": {},
   "outputs": [],
   "source": [
    "import pandas as pd"
   ]
  },
  {
   "cell_type": "code",
   "execution_count": 12,
   "metadata": {},
   "outputs": [],
   "source": [
    "# read data\n",
    "concert_name = \"concerts_2014-15\"\n",
    "account = pd.read_csv(\"data/account.csv\", encoding=\"latin-1\", delimiter=\",\")\n",
    "concerts = pd.read_csv(\"data/concerts.csv\", delimiter=\",\")\n",
    "concerts_2014_2015 = pd.read_csv(f\"data/{concert_name}.csv\", delimiter=\",\")\n",
    "subscriptions = pd.read_csv(\"data/subscriptions.csv\", delimiter=\",\")\n",
    "train = pd.read_csv(\"data/train.csv\", delimiter=\",\")\n",
    "test = pd.read_csv(\"data/test.csv\", delimiter=\",\")\n",
    "tickets_all = pd.read_csv(\"data/tickets_all.csv\", delimiter=\",\")\n",
    "zipcodes = pd.read_csv(\"data/zipcodes.csv\", delimiter=\",\")"
   ]
  },
  {
   "cell_type": "code",
   "execution_count": 15,
   "metadata": {},
   "outputs": [
    {
     "name": "stdout",
     "output_type": "stream",
     "text": [
      "{'account': ['account.id', 'shipping.zip.code', 'billing.zip.code', 'shipping.city', 'billing.city', 'relationship', 'amount.donated.2013', 'amount.donated.lifetime', 'no.donations.lifetime', 'first.donated'], 'concerts': ['season', 'concert.name', 'set', 'who', 'what', 'location'], 'concerts_2014_2015': ['season', 'concert.name', 'set', 'who', 'what'], 'subscriptions': ['account.id', 'season', 'package', 'no.seats', 'location', 'section', 'price.level', 'subscription_tier', 'multiple.subs'], 'train': ['account.id', 'label'], 'test': ['ID'], 'tickets_all': ['account.id', 'price.level', 'no.seats', 'marketing.source', 'season', 'location', 'set', 'multiple.tickets'], 'zipcodes': ['Zipcode', 'ZipCodeType', 'City', 'State', 'LocationType', 'Lat', 'Long', 'Location', 'Decommisioned', 'TaxReturnsFiled', 'EstimatedPopulation', 'TotalWages']}\n"
     ]
    }
   ],
   "source": [
    "# columns to delete that won't have much\n",
    "all_columns = {}\n",
    "all_columns['account'] = list(account.columns)\n",
    "all_columns['concerts'] = list(concerts.columns)\n",
    "all_columns['concerts_2014_2015'] = list(concerts_2014_2015.columns)\n",
    "all_columns['subscriptions'] = list(subscriptions.columns)\n",
    "all_columns['train'] = list(train.columns)\n",
    "all_columns['test'] = list(test.columns)\n",
    "all_columns['tickets_all'] = list(tickets_all.columns)\n",
    "all_columns['zipcodes'] = list(zipcodes.columns)\n",
    "print(all_columns)"
   ]
  },
  {
   "cell_type": "code",
   "execution_count": null,
   "metadata": {},
   "outputs": [],
   "source": []
  }
 ],
 "metadata": {
  "kernelspec": {
   "display_name": "base",
   "language": "python",
   "name": "python3"
  },
  "language_info": {
   "codemirror_mode": {
    "name": "ipython",
    "version": 3
   },
   "file_extension": ".py",
   "mimetype": "text/x-python",
   "name": "python",
   "nbconvert_exporter": "python",
   "pygments_lexer": "ipython3",
   "version": "3.9.12"
  },
  "orig_nbformat": 4
 },
 "nbformat": 4,
 "nbformat_minor": 2
}
