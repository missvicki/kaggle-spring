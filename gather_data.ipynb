{
 "cells": [
  {
   "cell_type": "code",
   "execution_count": 1,
   "metadata": {},
   "outputs": [],
   "source": [
    "import pandas as pd\n",
    "import numpy as np\n",
    "from statistics import mode"
   ]
  },
  {
   "cell_type": "code",
   "execution_count": 2,
   "metadata": {},
   "outputs": [],
   "source": [
    "# read data\n",
    "concert_name = \"concerts_2014-15\"\n",
    "account = pd.read_csv(\"data/account.csv\", encoding=\"latin-1\", delimiter=\",\")\n",
    "concerts = pd.read_csv(\"data/concerts.csv\", delimiter=\",\")\n",
    "concerts_2014_15 = pd.read_csv(f\"data/{concert_name}.csv\", delimiter=\",\")\n",
    "subscriptions = pd.read_csv(\"data/subscriptions.csv\", delimiter=\",\")\n",
    "train = pd.read_csv(\"data/train.csv\", delimiter=\",\")\n",
    "test = pd.read_csv(\"data/test.csv\", delimiter=\",\")\n",
    "tickets_all = pd.read_csv(\"data/tickets_all.csv\", delimiter=\",\")\n",
    "zipcodes = pd.read_csv(\"data/zipcodes.csv\", delimiter=\",\")"
   ]
  },
  {
   "cell_type": "code",
   "execution_count": 3,
   "metadata": {},
   "outputs": [],
   "source": [
    "def rename_columns(df):\n",
    "    df.rename(columns={col: col.replace('.', '_') for col in df.columns}, inplace=True)\n",
    "\n",
    "# Apply the function to each DataFrame\n",
    "rename_columns(account)\n",
    "rename_columns(train)\n",
    "rename_columns(test)\n",
    "rename_columns(tickets_all)\n",
    "rename_columns(subscriptions)\n",
    "rename_columns(concerts)\n",
    "rename_columns(concerts_2014_15)\n",
    "rename_columns(zipcodes)"
   ]
  },
  {
   "cell_type": "code",
   "execution_count": 4,
   "metadata": {},
   "outputs": [
    {
     "data": {
      "text/plain": [
       "{'account': ['account_id',\n",
       "  'shipping_zip_code',\n",
       "  'billing_zip_code',\n",
       "  'shipping_city',\n",
       "  'billing_city',\n",
       "  'relationship',\n",
       "  'amount_donated_2013',\n",
       "  'amount_donated_lifetime',\n",
       "  'no_donations_lifetime',\n",
       "  'first_donated'],\n",
       " 'concerts': ['season', 'concert_name', 'set', 'who', 'what', 'location'],\n",
       " 'concerts_2014_15': ['season', 'concert_name', 'set', 'who', 'what'],\n",
       " 'subscriptions': ['account_id',\n",
       "  'season',\n",
       "  'package',\n",
       "  'no_seats',\n",
       "  'location',\n",
       "  'section',\n",
       "  'price_level',\n",
       "  'subscription_tier',\n",
       "  'multiple_subs'],\n",
       " 'train': ['account_id', 'label'],\n",
       " 'test': ['ID'],\n",
       " 'tickets_all': ['account_id',\n",
       "  'price_level',\n",
       "  'no_seats',\n",
       "  'marketing_source',\n",
       "  'season',\n",
       "  'location',\n",
       "  'set',\n",
       "  'multiple_tickets'],\n",
       " 'zipcodes': ['Zipcode',\n",
       "  'ZipCodeType',\n",
       "  'City',\n",
       "  'State',\n",
       "  'LocationType',\n",
       "  'Lat',\n",
       "  'Long',\n",
       "  'Location',\n",
       "  'Decommisioned',\n",
       "  'TaxReturnsFiled',\n",
       "  'EstimatedPopulation',\n",
       "  'TotalWages']}"
      ]
     },
     "execution_count": 4,
     "metadata": {},
     "output_type": "execute_result"
    }
   ],
   "source": [
    "# columns to delete that won't have much\n",
    "all_columns = {}\n",
    "all_columns['account'] = list(account.columns)\n",
    "all_columns['concerts'] = list(concerts.columns)\n",
    "all_columns['concerts_2014_15'] = list(concerts_2014_15.columns)\n",
    "all_columns['subscriptions'] = list(subscriptions.columns)\n",
    "all_columns['train'] = list(train.columns)\n",
    "all_columns['test'] = list(test.columns)\n",
    "all_columns['tickets_all'] = list(tickets_all.columns)\n",
    "all_columns['zipcodes'] = list(zipcodes.columns)\n",
    "all_columns"
   ]
  },
  {
   "cell_type": "code",
   "execution_count": 5,
   "metadata": {},
   "outputs": [
    {
     "name": "stdout",
     "output_type": "stream",
     "text": [
      "(6941, 2) (2975, 1) (19833, 10) (28627, 9) (103, 6) (6, 5) (42522, 12) (2808, 8)\n"
     ]
    }
   ],
   "source": [
    "print(train.shape, test.shape, account.shape, subscriptions.shape, concerts.shape, concerts_2014_15.shape, zipcodes.shape, tickets_all.shape)"
   ]
  },
  {
   "attachments": {},
   "cell_type": "markdown",
   "metadata": {},
   "source": [
    "### Rename test ID name to account_id"
   ]
  },
  {
   "cell_type": "code",
   "execution_count": 6,
   "metadata": {},
   "outputs": [
    {
     "data": {
      "text/html": [
       "<div>\n",
       "<style scoped>\n",
       "    .dataframe tbody tr th:only-of-type {\n",
       "        vertical-align: middle;\n",
       "    }\n",
       "\n",
       "    .dataframe tbody tr th {\n",
       "        vertical-align: top;\n",
       "    }\n",
       "\n",
       "    .dataframe thead th {\n",
       "        text-align: right;\n",
       "    }\n",
       "</style>\n",
       "<table border=\"1\" class=\"dataframe\">\n",
       "  <thead>\n",
       "    <tr style=\"text-align: right;\">\n",
       "      <th></th>\n",
       "      <th>account_id</th>\n",
       "    </tr>\n",
       "  </thead>\n",
       "  <tbody>\n",
       "    <tr>\n",
       "      <th>0</th>\n",
       "      <td>001i000000NuQ6Y</td>\n",
       "    </tr>\n",
       "  </tbody>\n",
       "</table>\n",
       "</div>"
      ],
      "text/plain": [
       "        account_id\n",
       "0  001i000000NuQ6Y"
      ]
     },
     "execution_count": 6,
     "metadata": {},
     "output_type": "execute_result"
    }
   ],
   "source": [
    "test.rename(columns={'ID': 'account_id'}, inplace=True)\n",
    "test.head(1)"
   ]
  },
  {
   "attachments": {},
   "cell_type": "markdown",
   "metadata": {},
   "source": [
    "### Merge Datasets"
   ]
  },
  {
   "cell_type": "code",
   "execution_count": 7,
   "metadata": {},
   "outputs": [],
   "source": [
    "train_copy = train.copy()\n",
    "test_copy = test.copy()"
   ]
  },
  {
   "cell_type": "code",
   "execution_count": 8,
   "metadata": {},
   "outputs": [],
   "source": [
    "train_account = pd.merge(account, train_copy, on=\"account_id\", how=\"inner\")\n",
    "test_account = pd.merge(account, test_copy, on=\"account_id\", how=\"inner\")"
   ]
  },
  {
   "cell_type": "code",
   "execution_count": 9,
   "metadata": {},
   "outputs": [
    {
     "name": "stdout",
     "output_type": "stream",
     "text": [
      "(6941, 11) (2975, 10)\n"
     ]
    }
   ],
   "source": [
    "print(train_account.shape, test_account.shape)"
   ]
  },
  {
   "cell_type": "code",
   "execution_count": 10,
   "metadata": {},
   "outputs": [],
   "source": [
    "def preprocess_price_level(df):\n",
    "    df['price_level'] = df['price_level'].astype(str)\n",
    "    df['price_level'] = pd.Categorical(df['price_level'], ordered=True, categories=df['price_level'].unique())\n",
    "    df['price_level'] = df['price_level'].cat.codes\n",
    "    \n",
    "def preprocess_subs_tier(df):\n",
    "    df['subscription_tier'] = df['subscription_tier'].astype(str)\n",
    "    df['subscription_tier'] = pd.Categorical(df['subscription_tier'], ordered=True, categories=df['subscription_tier'].unique())\n",
    "    df['subscription_tier'] = df['subscription_tier'].cat.codes\n",
    "    \n",
    "preprocess_price_level(tickets_all)\n",
    "preprocess_price_level(subscriptions)\n",
    "preprocess_subs_tier(subscriptions)"
   ]
  },
  {
   "cell_type": "code",
   "execution_count": 11,
   "metadata": {},
   "outputs": [
    {
     "data": {
      "text/plain": [
       "((28627, 9), (103, 6), (6, 5), (2808, 8))"
      ]
     },
     "execution_count": 11,
     "metadata": {},
     "output_type": "execute_result"
    }
   ],
   "source": [
    "subscriptions.shape, concerts.shape, concerts_2014_15.shape, tickets_all.shape"
   ]
  },
  {
   "cell_type": "code",
   "execution_count": 12,
   "metadata": {},
   "outputs": [
    {
     "data": {
      "text/plain": [
       "(109, 6)"
      ]
     },
     "execution_count": 12,
     "metadata": {},
     "output_type": "execute_result"
    }
   ],
   "source": [
    "all_concerts = pd.concat([concerts, concerts_2014_15], axis=0)\n",
    "all_concerts.shape"
   ]
  },
  {
   "cell_type": "code",
   "execution_count": 13,
   "metadata": {},
   "outputs": [
    {
     "data": {
      "text/plain": [
       "((131264, 15), (68899, 14))"
      ]
     },
     "execution_count": 13,
     "metadata": {},
     "output_type": "execute_result"
    }
   ],
   "source": [
    "subscription_concerts = pd.merge(subscriptions, all_concerts.add_suffix('_concerts'), left_on=\"season\", right_on=\"season_concerts\", how='left')\n",
    "tickets_concerts = pd.merge(tickets_all, all_concerts.add_suffix('_concerts'), left_on=\"season\", right_on=\"season_concerts\", how='left')\n",
    "subscription_concerts.shape, tickets_concerts.shape"
   ]
  },
  {
   "cell_type": "code",
   "execution_count": 14,
   "metadata": {},
   "outputs": [
    {
     "data": {
      "text/plain": [
       "(Index(['account_id', 'season', 'package', 'no_seats', 'location', 'section',\n",
       "        'price_level', 'subscription_tier', 'multiple_subs', 'season_concerts',\n",
       "        'concert_name_concerts', 'set_concerts', 'who_concerts',\n",
       "        'what_concerts', 'location_concerts'],\n",
       "       dtype='object'),\n",
       " Index(['account_id', 'price_level', 'no_seats', 'marketing_source', 'season',\n",
       "        'location', 'set', 'multiple_tickets'],\n",
       "       dtype='object'))"
      ]
     },
     "execution_count": 14,
     "metadata": {},
     "output_type": "execute_result"
    }
   ],
   "source": [
    "subscription_concerts.columns, tickets_all.columns"
   ]
  },
  {
   "cell_type": "code",
   "execution_count": 15,
   "metadata": {},
   "outputs": [],
   "source": [
    "subscription_concerts.drop(columns=['season_concerts'], inplace=True)\n",
    "tickets_concerts.drop(columns=['season_concerts'], inplace=True)"
   ]
  },
  {
   "cell_type": "code",
   "execution_count": 16,
   "metadata": {},
   "outputs": [
    {
     "data": {
      "text/plain": [
       "Index(['account_id', 'season', 'package', 'no_seats', 'location', 'section',\n",
       "       'price_level', 'subscription_tier', 'multiple_subs',\n",
       "       'concert_name_concerts', 'set_concerts', 'who_concerts',\n",
       "       'what_concerts', 'location_concerts'],\n",
       "      dtype='object')"
      ]
     },
     "execution_count": 16,
     "metadata": {},
     "output_type": "execute_result"
    }
   ],
   "source": [
    "subscription_concerts.columns"
   ]
  },
  {
   "cell_type": "code",
   "execution_count": 17,
   "metadata": {},
   "outputs": [
    {
     "data": {
      "text/plain": [
       "Index(['account_id', 'price_level', 'no_seats', 'marketing_source', 'season',\n",
       "       'location', 'set', 'multiple_tickets', 'concert_name_concerts',\n",
       "       'set_concerts', 'who_concerts', 'what_concerts', 'location_concerts'],\n",
       "      dtype='object')"
      ]
     },
     "execution_count": 17,
     "metadata": {},
     "output_type": "execute_result"
    }
   ],
   "source": [
    "tickets_concerts.columns"
   ]
  },
  {
   "cell_type": "code",
   "execution_count": 18,
   "metadata": {},
   "outputs": [],
   "source": [
    "# Aggregate ticket and subscription data\n",
    "tickets_concerts = tickets_concerts.groupby('account_id').agg({'no_seats': 'sum', 'price_level': lambda x: mode(x)}).reset_index()\n",
    "subscription_concerts = subscription_concerts.groupby('account_id').agg({'no_seats': 'sum', 'price_level': lambda x: mode(x), 'subscription_tier': lambda x: mode(x)}).reset_index()"
   ]
  },
  {
   "cell_type": "code",
   "execution_count": 19,
   "metadata": {},
   "outputs": [],
   "source": [
    "# Merge ticket and subscription data\n",
    "train_account_tickets = pd.merge(train_account, tickets_concerts.add_suffix('_tickets'), left_on=\"account_id\", right_on=\"account_id_tickets\", how='left')\n",
    "train_account_subs = pd.merge(train_account_tickets, subscription_concerts.add_suffix('_subs'), left_on=\"account_id\", right_on=\"account_id_subs\", how='left')\n",
    "\n",
    "test_account_tickets = pd.merge(test_account, tickets_concerts.add_suffix('_tickets'), left_on=\"account_id\", right_on=\"account_id_tickets\", how='left')\n",
    "test_account_subs = pd.merge(test_account_tickets, subscription_concerts.add_suffix('_subs'), left_on=\"account_id\", right_on=\"account_id_subs\", how='left')"
   ]
  },
  {
   "cell_type": "code",
   "execution_count": 20,
   "metadata": {},
   "outputs": [
    {
     "data": {
      "text/plain": [
       "((2975, 17), (6941, 18))"
      ]
     },
     "execution_count": 20,
     "metadata": {},
     "output_type": "execute_result"
    }
   ],
   "source": [
    "test_account_subs.shape, train_account_subs.shape "
   ]
  },
  {
   "cell_type": "code",
   "execution_count": 21,
   "metadata": {},
   "outputs": [
    {
     "data": {
      "text/plain": [
       "Index(['account_id', 'shipping_zip_code', 'billing_zip_code', 'shipping_city',\n",
       "       'billing_city', 'relationship', 'amount_donated_2013',\n",
       "       'amount_donated_lifetime', 'no_donations_lifetime', 'first_donated',\n",
       "       'label', 'account_id_tickets', 'no_seats_tickets',\n",
       "       'price_level_tickets', 'account_id_subs', 'no_seats_subs',\n",
       "       'price_level_subs', 'subscription_tier_subs'],\n",
       "      dtype='object')"
      ]
     },
     "execution_count": 21,
     "metadata": {},
     "output_type": "execute_result"
    }
   ],
   "source": [
    "train_account_subs.columns"
   ]
  },
  {
   "cell_type": "code",
   "execution_count": 22,
   "metadata": {},
   "outputs": [],
   "source": [
    "train_account_subs = train_account_subs.drop(['account_id_subs', 'account_id_tickets'], axis=1)"
   ]
  },
  {
   "cell_type": "code",
   "execution_count": 23,
   "metadata": {},
   "outputs": [],
   "source": [
    "test_account_subs = test_account_subs.drop(['account_id_subs', 'account_id_tickets'], axis=1)"
   ]
  },
  {
   "cell_type": "code",
   "execution_count": 24,
   "metadata": {},
   "outputs": [
    {
     "data": {
      "text/plain": [
       "account_id                  object\n",
       "shipping_zip_code           object\n",
       "billing_zip_code            object\n",
       "shipping_city               object\n",
       "billing_city                object\n",
       "relationship                object\n",
       "amount_donated_2013        float64\n",
       "amount_donated_lifetime    float64\n",
       "no_donations_lifetime        int64\n",
       "first_donated               object\n",
       "label                        int64\n",
       "no_seats_tickets           float64\n",
       "price_level_tickets        float64\n",
       "no_seats_subs              float64\n",
       "price_level_subs           float64\n",
       "subscription_tier_subs     float64\n",
       "dtype: object"
      ]
     },
     "execution_count": 24,
     "metadata": {},
     "output_type": "execute_result"
    }
   ],
   "source": [
    "train_account_subs.dtypes"
   ]
  },
  {
   "cell_type": "code",
   "execution_count": 25,
   "metadata": {},
   "outputs": [],
   "source": [
    "# # years since donation 2013\n",
    "train_account_subs['first_donated'] = pd.to_datetime(train_account_subs['first_donated'])\n",
    "test_account_subs['first_donated'] = pd.to_datetime(test_account_subs['first_donated'])\n",
    "\n",
    "train_account_subs['years_since_2013'] = 2013 - train_account_subs['first_donated'].dt.year\n",
    "test_account_subs['years_since_2013'] = 2013 - test_account_subs['first_donated'].dt.year\n",
    "\n",
    "train_account_subs['years_since_2013'] = pd.to_numeric(train_account_subs['years_since_2013'], downcast='integer')\n",
    "test_account_subs['years_since_2013'] = pd.to_numeric(test_account_subs['years_since_2013'], downcast='integer')"
   ]
  },
  {
   "cell_type": "code",
   "execution_count": 26,
   "metadata": {},
   "outputs": [
    {
     "data": {
      "text/html": [
       "<div>\n",
       "<style scoped>\n",
       "    .dataframe tbody tr th:only-of-type {\n",
       "        vertical-align: middle;\n",
       "    }\n",
       "\n",
       "    .dataframe tbody tr th {\n",
       "        vertical-align: top;\n",
       "    }\n",
       "\n",
       "    .dataframe thead th {\n",
       "        text-align: right;\n",
       "    }\n",
       "</style>\n",
       "<table border=\"1\" class=\"dataframe\">\n",
       "  <thead>\n",
       "    <tr style=\"text-align: right;\">\n",
       "      <th></th>\n",
       "      <th>account_id</th>\n",
       "      <th>shipping_zip_code</th>\n",
       "      <th>billing_zip_code</th>\n",
       "      <th>shipping_city</th>\n",
       "      <th>billing_city</th>\n",
       "      <th>relationship</th>\n",
       "      <th>amount_donated_2013</th>\n",
       "      <th>amount_donated_lifetime</th>\n",
       "      <th>no_donations_lifetime</th>\n",
       "      <th>first_donated</th>\n",
       "      <th>no_seats_tickets</th>\n",
       "      <th>price_level_tickets</th>\n",
       "      <th>no_seats_subs</th>\n",
       "      <th>price_level_subs</th>\n",
       "      <th>subscription_tier_subs</th>\n",
       "      <th>years_since_2013</th>\n",
       "    </tr>\n",
       "  </thead>\n",
       "  <tbody>\n",
       "    <tr>\n",
       "      <th>0</th>\n",
       "      <td>001i000000LhyPF</td>\n",
       "      <td>NaN</td>\n",
       "      <td>94610</td>\n",
       "      <td>NaN</td>\n",
       "      <td>Oakland</td>\n",
       "      <td>NaN</td>\n",
       "      <td>1500.0</td>\n",
       "      <td>28435.00</td>\n",
       "      <td>28</td>\n",
       "      <td>1986-07-04</td>\n",
       "      <td>NaN</td>\n",
       "      <td>NaN</td>\n",
       "      <td>233.0</td>\n",
       "      <td>5.0</td>\n",
       "      <td>1.0</td>\n",
       "      <td>27.0</td>\n",
       "    </tr>\n",
       "    <tr>\n",
       "      <th>1</th>\n",
       "      <td>001i000000LhyPG</td>\n",
       "      <td>NaN</td>\n",
       "      <td>94024</td>\n",
       "      <td>NaN</td>\n",
       "      <td>Los Altos</td>\n",
       "      <td>NaN</td>\n",
       "      <td>300.0</td>\n",
       "      <td>4969.00</td>\n",
       "      <td>16</td>\n",
       "      <td>1997-04-07</td>\n",
       "      <td>NaN</td>\n",
       "      <td>NaN</td>\n",
       "      <td>228.0</td>\n",
       "      <td>5.0</td>\n",
       "      <td>1.0</td>\n",
       "      <td>16.0</td>\n",
       "    </tr>\n",
       "    <tr>\n",
       "      <th>2</th>\n",
       "      <td>001i000000LhyPP</td>\n",
       "      <td>NaN</td>\n",
       "      <td>94618</td>\n",
       "      <td>NaN</td>\n",
       "      <td>Oakland</td>\n",
       "      <td>NaN</td>\n",
       "      <td>0.0</td>\n",
       "      <td>4047.96</td>\n",
       "      <td>21</td>\n",
       "      <td>1998-12-02</td>\n",
       "      <td>NaN</td>\n",
       "      <td>NaN</td>\n",
       "      <td>227.0</td>\n",
       "      <td>0.0</td>\n",
       "      <td>1.0</td>\n",
       "      <td>15.0</td>\n",
       "    </tr>\n",
       "    <tr>\n",
       "      <th>3</th>\n",
       "      <td>001i000000LhyPb</td>\n",
       "      <td>NaN</td>\n",
       "      <td>94941</td>\n",
       "      <td>NaN</td>\n",
       "      <td>Mill Valley</td>\n",
       "      <td>NaN</td>\n",
       "      <td>0.0</td>\n",
       "      <td>5600.00</td>\n",
       "      <td>8</td>\n",
       "      <td>2007-05-13</td>\n",
       "      <td>NaN</td>\n",
       "      <td>NaN</td>\n",
       "      <td>212.0</td>\n",
       "      <td>5.0</td>\n",
       "      <td>0.0</td>\n",
       "      <td>6.0</td>\n",
       "    </tr>\n",
       "    <tr>\n",
       "      <th>4</th>\n",
       "      <td>001i000000LhyPg</td>\n",
       "      <td>NaN</td>\n",
       "      <td>94705</td>\n",
       "      <td>NaN</td>\n",
       "      <td>Berkeley</td>\n",
       "      <td>NaN</td>\n",
       "      <td>150.0</td>\n",
       "      <td>3678.00</td>\n",
       "      <td>35</td>\n",
       "      <td>1988-07-04</td>\n",
       "      <td>NaN</td>\n",
       "      <td>NaN</td>\n",
       "      <td>237.0</td>\n",
       "      <td>0.0</td>\n",
       "      <td>1.0</td>\n",
       "      <td>25.0</td>\n",
       "    </tr>\n",
       "  </tbody>\n",
       "</table>\n",
       "</div>"
      ],
      "text/plain": [
       "        account_id shipping_zip_code billing_zip_code shipping_city  \\\n",
       "0  001i000000LhyPF               NaN            94610           NaN   \n",
       "1  001i000000LhyPG               NaN            94024           NaN   \n",
       "2  001i000000LhyPP               NaN            94618           NaN   \n",
       "3  001i000000LhyPb               NaN            94941           NaN   \n",
       "4  001i000000LhyPg               NaN            94705           NaN   \n",
       "\n",
       "  billing_city relationship  amount_donated_2013  amount_donated_lifetime  \\\n",
       "0      Oakland          NaN               1500.0                 28435.00   \n",
       "1    Los Altos          NaN                300.0                  4969.00   \n",
       "2      Oakland          NaN                  0.0                  4047.96   \n",
       "3  Mill Valley          NaN                  0.0                  5600.00   \n",
       "4     Berkeley          NaN                150.0                  3678.00   \n",
       "\n",
       "   no_donations_lifetime first_donated  no_seats_tickets  price_level_tickets  \\\n",
       "0                     28    1986-07-04               NaN                  NaN   \n",
       "1                     16    1997-04-07               NaN                  NaN   \n",
       "2                     21    1998-12-02               NaN                  NaN   \n",
       "3                      8    2007-05-13               NaN                  NaN   \n",
       "4                     35    1988-07-04               NaN                  NaN   \n",
       "\n",
       "   no_seats_subs  price_level_subs  subscription_tier_subs  years_since_2013  \n",
       "0          233.0               5.0                     1.0              27.0  \n",
       "1          228.0               5.0                     1.0              16.0  \n",
       "2          227.0               0.0                     1.0              15.0  \n",
       "3          212.0               5.0                     0.0               6.0  \n",
       "4          237.0               0.0                     1.0              25.0  "
      ]
     },
     "execution_count": 26,
     "metadata": {},
     "output_type": "execute_result"
    }
   ],
   "source": [
    "test_account_subs.head()"
   ]
  },
  {
   "cell_type": "code",
   "execution_count": 27,
   "metadata": {},
   "outputs": [
    {
     "data": {
      "text/plain": [
       "array(['94', '95', '23', 'nan', '50', '44', '10', '29', '61', '90',\n",
       "       'foreign', '12', '68', '20', '04', '11', '27', '76', '92', '19',\n",
       "       '60', '75', '18', '91', '85', '21', '96', '80', '97', '98', '43',\n",
       "       '87', '93', '02', '83', '24', '84', '40', '77', '15', '32', '01',\n",
       "       '17', '53', '26', '34', '48', '16', '59', '78', '66', '89', '65',\n",
       "       '42', '70', '22', '13', '28', '47', '71', '08'], dtype=object)"
      ]
     },
     "execution_count": 27,
     "metadata": {},
     "output_type": "execute_result"
    }
   ],
   "source": [
    "train_account_subs['zip_reduced'] = train_account_subs['billing_zip_code'].str[:2]\n",
    "train_account_subs['zip_reduced'] = np.where(pd.to_numeric(train_account_subs['zip_reduced'], errors='coerce').isna(), 'nan', train_account_subs['zip_reduced'])\n",
    "train_account_subs['zip_reduced'] = np.where(np.logical_and(train_account_subs['zip_reduced']=='nan',\n",
    "                                                ~train_account_subs['billing_zip_code'].isna()),\n",
    "                                 'foreign',\n",
    "                                 train_account_subs['zip_reduced'])\n",
    "train_account_subs['zip_reduced'].unique()\n",
    "\n",
    "test_account_subs['zip_reduced'] = test_account_subs['billing_zip_code'].str[:2]\n",
    "test_account_subs['zip_reduced'] = np.where(pd.to_numeric(test_account_subs['zip_reduced'], errors='coerce').isna(), 'nan', test_account_subs['zip_reduced'])\n",
    "test_account_subs['zip_reduced'] = np.where(np.logical_and(test_account_subs['zip_reduced']=='nan',\n",
    "                                                ~test_account_subs['billing_zip_code'].isna()),\n",
    "                                 'foreign',\n",
    "                                 test_account_subs['zip_reduced'])\n",
    "test_account_subs['zip_reduced'].unique()"
   ]
  },
  {
   "cell_type": "code",
   "execution_count": 28,
   "metadata": {},
   "outputs": [],
   "source": [
    "train_account_subs['zip_matched'] = np.where(train_account_subs['shipping_zip_code'].isna(), '0', 1)\n",
    "train_account_subs['zip_matched'] = np.where(np.logical_and(train_account_subs['zip_matched']==1,\n",
    "                                            train_account_subs['shipping_zip_code'] == train_account_subs['billing_zip_code']),\n",
    "                                 '1',\n",
    "                                 '2')\n",
    "\n",
    "test_account_subs['zip_matched'] = np.where(test_account_subs['shipping_zip_code'].isna(), '0', 1)\n",
    "test_account_subs['zip_matched'] = np.where(np.logical_and(test_account_subs['zip_matched']==1,\n",
    "                                            test_account_subs['shipping_zip_code'] == test_account_subs['billing_zip_code']),\n",
    "                                 '1',\n",
    "                                 '2')"
   ]
  },
  {
   "cell_type": "code",
   "execution_count": 29,
   "metadata": {},
   "outputs": [],
   "source": [
    "train_account_subs = train_account_subs.drop(['shipping_zip_code', 'shipping_city', 'relationship', 'billing_zip_code', 'billing_city', 'first_donated'], axis=1)\n",
    "test_account_subs = test_account_subs.drop(['shipping_zip_code', 'shipping_city', 'relationship', 'billing_zip_code', 'billing_city', 'first_donated'], axis=1)\n"
   ]
  },
  {
   "cell_type": "code",
   "execution_count": 30,
   "metadata": {},
   "outputs": [
    {
     "data": {
      "text/plain": [
       "(6941, 13)"
      ]
     },
     "execution_count": 30,
     "metadata": {},
     "output_type": "execute_result"
    }
   ],
   "source": [
    "train_account_subs.shape"
   ]
  },
  {
   "cell_type": "code",
   "execution_count": 31,
   "metadata": {},
   "outputs": [],
   "source": [
    "train_account_subs.to_csv('data/merged_train.csv', index=False)\n",
    "test_account_subs.to_csv('data/merged_test.csv', index=False)"
   ]
  },
  {
   "cell_type": "code",
   "execution_count": null,
   "metadata": {},
   "outputs": [],
   "source": []
  },
  {
   "cell_type": "code",
   "execution_count": null,
   "metadata": {},
   "outputs": [],
   "source": []
  }
 ],
 "metadata": {
  "kernelspec": {
   "display_name": "base",
   "language": "python",
   "name": "python3"
  },
  "language_info": {
   "codemirror_mode": {
    "name": "ipython",
    "version": 3
   },
   "file_extension": ".py",
   "mimetype": "text/x-python",
   "name": "python",
   "nbconvert_exporter": "python",
   "pygments_lexer": "ipython3",
   "version": "3.9.12"
  },
  "orig_nbformat": 4
 },
 "nbformat": 4,
 "nbformat_minor": 2
}
